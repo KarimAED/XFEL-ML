{
 "cells": [
  {
   "cell_type": "markdown",
   "metadata": {
    "pycharm": {
     "name": "#%% md\n"
    }
   },
   "source": [
    "### Prediction of new data\n",
    "\n",
    "We now continue to the newly collected data, and the task of predicting it's mean pulse energies. Let's first get the delay between the two pulses and all inputs as features (and also process them):"
   ]
  },
  {
   "cell_type": "code",
   "execution_count": 1,
   "metadata": {
    "pycharm": {
     "name": "#%%\n"
    }
   },
   "outputs": [],
   "source": [
    "import os\n",
    "os.environ['CUDA_VISIBLE_DEVICES'] = '-1'\n",
    "if \"newMode2021\" in os.getcwd():\n",
    "    os.chdir(\"..\")"
   ]
  },
  {
   "cell_type": "code",
   "execution_count": null,
   "outputs": [],
   "source": [
    "import time, yaml\n",
    "import logging.config\n",
    "import tensorflow as tf\n",
    "\n",
    "stream = open(\"log_config.yml\", \"r\")\n",
    "conf = yaml.safe_load(stream)\n",
    "conf[\"logfile\"] = \"logs/newMode2021_%s.log\" % str(time.time())\n",
    "logging.config.dictConfig(conf)"
   ],
   "metadata": {
    "collapsed": false,
    "pycharm": {
     "name": "#%%\n"
    }
   }
  },
  {
   "cell_type": "code",
   "execution_count": null,
   "outputs": [],
   "source": [
    "from newMode2021.setup import get_data_p1\n",
    "\n",
    "u2_dataset = \"u2_273_37026_events.pkl\"\n",
    "\n",
    "data = get_data_p1(u2_dataset)"
   ],
   "metadata": {
    "collapsed": false,
    "pycharm": {
     "name": "#%%\n"
    }
   }
  },
  {
   "cell_type": "code",
   "execution_count": null,
   "outputs": [],
   "source": [
    "#### Use an ANN\n",
    "\n",
    "We begin by simply fitting an ANN to the data. Using hyperparametrization before, we found the ideal parameters:\n",
    "\n",
    "* 2 hidden layers of 20 nodes each\n",
    "* ReLU activation function\n",
    "* no drop out or batch normalization\n",
    "* l2 regularization\n",
    "\n",
    "Fitting the ann with these parameters across 5,000 epochs:"
   ],
   "metadata": {
    "collapsed": false,
    "pycharm": {
     "name": "#%%\n"
    }
   }
  },
  {
   "cell_type": "code",
   "execution_count": null,
   "outputs": [],
   "source": [
    "from utility.pipelines.ann import *"
   ],
   "metadata": {
    "collapsed": false,
    "pycharm": {
     "name": "#%%\n"
    }
   }
  },
  {
   "cell_type": "markdown",
   "source": [
    "#### Feature selection\n",
    "\n",
    "Now let us see how our pipeline works for this new data, and the pulse 1 energy prediction."
   ],
   "metadata": {
    "collapsed": false,
    "pycharm": {
     "name": "#%% md\n"
    }
   }
  },
  {
   "cell_type": "code",
   "execution_count": null,
   "outputs": [],
   "source": [
    "\n",
    "\n",
    "ann_feat_str_data = {\n",
    "    \"feat_name\": \"vls_com_pump\",\n",
    "    \"plot_lab\": \"central p1 energy\",\n",
    "    \"unit\": \"eV\",\n",
    "    \"data_fname\": \"PaperFigures/Figure Data/Figure 3/ann_10_feat_pred.npz\",\n",
    "    \"plot_fname\": \"newMode2021/results/ex_1_p1_pred/ann_low_p1_hist2d\",\n",
    "}\n",
    "\n",
    "\n",
    "ann_feature_pipeline(data, ann_feat_str_data)"
   ],
   "metadata": {
    "collapsed": false,
    "pycharm": {
     "name": "#%%\n"
    }
   }
  },
  {
   "cell_type": "markdown",
   "source": [
    "#### Comparison of feature selection and no selection\n",
    "\n",
    "Now let us compare the predictions from the feature selected data to the data without feature selection."
   ],
   "metadata": {
    "collapsed": false,
    "pycharm": {
     "name": "#%% md\n"
    }
   }
  },
  {
   "cell_type": "code",
   "execution_count": null,
   "outputs": [],
   "source": [
    "from utility.plotting.scatter_diff import *\n",
    "\n",
    "d1 = \"newMode2021/results/ex_1_p1_pred/ann_pred.npz\"\n",
    "d2 = \"newMode2021/results/ex_1_p1_pred/ann_10_feat_pred.npz\"\n",
    "\n",
    "string_d = {\n",
    "    \"quantity\": \"central p1 energy\",\n",
    "    \"unit\": \"eV\",\n",
    "    \"label_1\": r\"$M=86$\",\n",
    "    \"label_2\": r\"$M=10$\",\n",
    "}\n",
    "\n",
    "scatter_diff(d1, d2, string_d)"
   ],
   "metadata": {
    "collapsed": false,
    "pycharm": {
     "name": "#%%\n"
    }
   }
  },
  {
   "cell_type": "markdown",
   "source": [
    "#### Results of Feature Selection\n",
    "\n",
    "As we can see, the feature selection has significantly decreased the number of features used from >100 to 10, while leaving the prediction quality close to identical.\n",
    "\n",
    "### Other Estimators\n",
    "\n",
    "To benchmark our ANN, we also use linear models and gradient boosting estimators and perform the same analysis."
   ],
   "metadata": {
    "collapsed": false,
    "pycharm": {
     "name": "#%% md\n"
    }
   }
  },
  {
   "cell_type": "code",
   "execution_count": null,
   "outputs": [],
   "source": [
    "from utility.pipelines.gb import *\n",
    "from utility.pipelines.lin import *"
   ],
   "metadata": {
    "collapsed": false,
    "pycharm": {
     "name": "#%%\n"
    }
   }
  },
  {
   "cell_type": "code",
   "execution_count": null,
   "outputs": [],
   "source": [
    "data = get_data_p1(\"u2_273_37026_events.pkl\")\n",
    "\n",
    "gb_feat_str_data = {\n",
    "    \"feat_name\": \"vls_com_pump\",\n",
    "    \"plot_lab\": \"central p1 energy\",\n",
    "    \"unit\": \"eV\",\n",
    "    \"data_fname\": \"PaperFigures/Figure Data/Figure 3/gb_10_feat_pred.npz\",\n",
    "    \"plot_fname\": \"newMode2021/results/ex_1_p1_pred/xgb_low_p1_hist2d\",\n",
    "}\n",
    "\n",
    "\n",
    "gb_feature_pipeline(data, gb_feat_str_data)"
   ],
   "metadata": {
    "collapsed": false,
    "pycharm": {
     "name": "#%%\n"
    }
   }
  },
  {
   "cell_type": "markdown",
   "source": [
    "## Pulse 2 prediction\n",
    "\n",
    "Now let us see how well we can predict the second pulse."
   ],
   "metadata": {
    "collapsed": false,
    "pycharm": {
     "name": "#%% md\n"
    }
   }
  },
  {
   "cell_type": "code",
   "execution_count": null,
   "outputs": [],
   "source": [
    "ann_feat_str_data = {\n",
    "    \"feat_name\": \"vls_com_probe\",\n",
    "    \"plot_lab\": \"central p2 energy\",\n",
    "    \"unit\": \"eV\",\n",
    "    \"data_fname\": \"PaperFigures/Figure Data/Figure 4_5/old_u2.npz\",\n",
    "    \"plot_fname\": \"newMode2021/results/ex_4_p2_pred/ann_p2\",\n",
    "}\n",
    "\n",
    "ann_feature_pipeline(data, ann_feat_str_data)"
   ],
   "metadata": {
    "collapsed": false,
    "pycharm": {
     "name": "#%%\n"
    }
   }
  },
  {
   "cell_type": "code",
   "execution_count": null,
   "outputs": [],
   "source": [
    "gb_feat_str_data = {\n",
    "    \"feat_name\": \"vls_com_probe\",\n",
    "    \"plot_lab\": \"central p2 energy\",\n",
    "    \"unit\": \"eV\",\n",
    "    \"data_fname\": \"PaperFigures/Figure Data/Figure 3/gb_probe.npz\",\n",
    "    \"plot_fname\": \"newMode2021/results/ex_4_p2_pred/xgb_low_p2_hist2d\",\n",
    "}\n",
    "\n",
    "gb_feature_pipeline(data, gb_feat_str_data)"
   ],
   "metadata": {
    "collapsed": false,
    "pycharm": {
     "name": "#%%\n"
    }
   }
  },
  {
   "cell_type": "markdown",
   "source": [
    "## Few Features Only"
   ],
   "metadata": {
    "collapsed": false,
    "pycharm": {
     "name": "#%% md\n"
    }
   }
  },
  {
   "cell_type": "code",
   "execution_count": null,
   "outputs": [],
   "source": [
    "ebeam_cols = [\n",
    "    \"ebeam_ebeamL3Energy\", \"ebeam_ebeamUndPosX\", \"ebeam_ebeamUndAngY\", \"ebeam_ebeamUndPosY\",\n",
    "    \"ebeam_ebeamLTU450\", \"ebeam_ebeamEnergyBC2\", \"ebeam_ebeamLTU250\", \"ebeam_ebeamCharge\",\n",
    "    \"ebeam_ebeamXTCAVPhase\", \"ebeam_ebeamPkCurrBC2\"\n",
    "]\n",
    "\n",
    "\n",
    "top_cols = [\"vls_com_pump\", \"xgmd_rmsElectronSum\", \"xgmd_energy\", \"ebeam_ebeamL3Energy\", \"gmd_energy\",\n",
    "            \"ebeam_ebeamUndPosX\", \"vls_width_pump\", \"ebeam_ebeamUndAngY\", \"ebeam_ebeamUndPosY\", \"ebeam_ebeamLTU450\"]\n",
    "\n",
    "data = get_data_p1(\"u2_273_37026_events.pkl\", include_pump=True, filter_cols=top_cols)\n",
    "\n",
    "lin_feat_str_data = {\n",
    "    \"feat_name\": \"vls_com_pump\",\n",
    "    \"plot_lab\": \"central p1 energy\",\n",
    "    \"unit\": \"eV\",\n",
    "    \"data_fname\": \"PaperFigures/Figure Data/Figure 3/lin_pump.npz\",\n",
    "    \"plot_fname\": \"newMode2021/results/ex_1_p1_pred/lin_p1\",\n",
    "}\n",
    "\n",
    "lin_pipeline(data, lin_feat_str_data)"
   ],
   "metadata": {
    "collapsed": false,
    "pycharm": {
     "name": "#%%\n"
    }
   }
  },
  {
   "cell_type": "code",
   "execution_count": null,
   "outputs": [],
   "source": [
    "ebeam_cols = [\n",
    "    \"ebeam_ebeamL3Energy\", \"ebeam_ebeamUndPosX\", \"ebeam_ebeamUndAngY\", \"ebeam_ebeamUndPosY\",\n",
    "    \"ebeam_ebeamLTU450\", \"ebeam_ebeamEnergyBC2\", \"ebeam_ebeamLTU250\", \"ebeam_ebeamCharge\",\n",
    "    \"ebeam_ebeamXTCAVPhase\", \"ebeam_ebeamPkCurrBC2\"\n",
    "]\n",
    "\n",
    "\n",
    "top_cols = [\"vls_com_pump\", \"xgmd_rmsElectronSum\", \"xgmd_energy\", \"ebeam_ebeamL3Energy\", \"gmd_energy\",\n",
    "            \"ebeam_ebeamUndPosX\", \"vls_width_pump\", \"ebeam_ebeamUndAngY\", \"ebeam_ebeamUndPosY\", \"ebeam_ebeamLTU450\"]\n",
    "\n",
    "data = get_data_p2(\"u2_273_37026_events.pkl\", include_probe=True, filter_cols=top_cols)\n",
    "\n",
    "lin_feat_str_data = {\n",
    "    \"feat_name\": \"vls_com_probe\",\n",
    "    \"plot_lab\": \"central p2 energy\",\n",
    "    \"unit\": \"eV\",\n",
    "    \"data_fname\": \"PaperFigures/Figure Data/Figure 3/lin_probe.npz\",\n",
    "    \"plot_fname\": \"newMode2021/results/ex_4_p2_pred/lin_p2\",\n",
    "}\n",
    "\n",
    "lin_pipeline(data, lin_feat_str_data)"
   ],
   "metadata": {
    "collapsed": false,
    "pycharm": {
     "name": "#%%\n"
    }
   }
  },
  {
   "cell_type": "markdown",
   "source": [
    "### Undulator variation"
   ],
   "metadata": {
    "collapsed": false,
    "pycharm": {
     "name": "#%% md\n"
    }
   }
  },
  {
   "cell_type": "code",
   "execution_count": null,
   "outputs": [],
   "source": [],
   "metadata": {
    "collapsed": false,
    "pycharm": {
     "name": "#%%\n"
    }
   }
  },
  {
   "cell_type": "markdown",
   "metadata": {},
   "source": [
    "### Undulator variation"
   ]
  },
  {
   "cell_type": "code",
   "execution_count": null,
   "metadata": {},
   "outputs": [],
   "source": []
  }
 ],
 "metadata": {
  "kernelspec": {
   "display_name": "Python 3 (ipykernel)",
   "language": "python",
   "name": "python3"
  },
  "language_info": {
   "codemirror_mode": {
    "name": "ipython",
    "version": 3
   },
   "file_extension": ".py",
   "mimetype": "text/x-python",
   "name": "python",
   "nbconvert_exporter": "python",
   "pygments_lexer": "ipython3",
   "version": "3.8.10"
  }
 },
 "nbformat": 4,
 "nbformat_minor": 1
}